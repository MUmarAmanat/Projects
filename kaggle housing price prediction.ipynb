{
 "cells": [
  {
   "cell_type": "code",
   "execution_count": 2,
   "metadata": {},
   "outputs": [],
   "source": [
    "import pandas as pd\n",
    "import os\n",
    "import matplotlib.pyplot as plt\n",
    "import numpy as np"
   ]
  },
  {
   "cell_type": "markdown",
   "metadata": {},
   "source": [
    "# Import Training Data"
   ]
  },
  {
   "cell_type": "code",
   "execution_count": 3,
   "metadata": {},
   "outputs": [],
   "source": [
    "def load_housing_data(data_path):\n",
    "    return pd.read_csv(data_path)\n"
   ]
  },
  {
   "cell_type": "markdown",
   "metadata": {},
   "source": [
    "# Visualize Data"
   ]
  },
  {
   "cell_type": "code",
   "execution_count": null,
   "metadata": {},
   "outputs": [],
   "source": [
    "%matplotlib inline \n",
    "housing.hist(bins=50, figsize=(20,15))\n",
    "plt.show()"
   ]
  },
  {
   "cell_type": "code",
   "execution_count": null,
   "metadata": {},
   "outputs": [],
   "source": [
    "# housing.isnull().sum()\n",
    "# # housing.Alley"
   ]
  },
  {
   "cell_type": "code",
   "execution_count": null,
   "metadata": {},
   "outputs": [],
   "source": [
    "# corr_matrix = housing.corr()\n",
    "# corr_matrix.LotFrontage.sort_values(ascending=False)"
   ]
  },
  {
   "cell_type": "markdown",
   "metadata": {},
   "source": [
    "<h1>Data Cleaning</h1>\n"
   ]
  },
  {
   "cell_type": "markdown",
   "metadata": {},
   "source": [
    "<h3 style=\"color:blue\">Removing Unnecessary Data</h3>"
   ]
  },
  {
   "cell_type": "code",
   "execution_count": 4,
   "metadata": {},
   "outputs": [],
   "source": [
    "def to_drop(X):\n",
    "    columns_to_drop = ['Alley','Utilities','LandSlope', 'Condition2', 'Exterior2nd', 'MasVnrType', 'MasVnrArea', \n",
    "                      'BsmtExposure', 'BsmtFinSF1', 'BsmtFinType2', 'BsmtFinSF2', 'TotalBsmtSF', 'LowQualFinSF',\n",
    "                      'BsmtFullBath', 'BsmtHalfBath', 'GarageCond', 'PavedDrive', 'EnclosedPorch', '3SsnPorch', \n",
    "                      'ScreenPorch', 'PoolArea', 'PoolQC', 'Fence', 'MiscFeature', 'MiscVal', 'ExterQual', 'MSZoning'\n",
    "                      ] \n",
    "    X = X.drop(columns_to_drop, axis=1)\n",
    "    return X"
   ]
  },
  {
   "cell_type": "markdown",
   "metadata": {},
   "source": [
    "<h3 style=\"color:blue;\">Removing Na Values from Data</h3>"
   ]
  },
  {
   "cell_type": "code",
   "execution_count": 5,
   "metadata": {},
   "outputs": [],
   "source": [
    "\n",
    "def removing_na_values(X):\n",
    "    X.LotFrontage = X.LotFrontage.fillna(X.LotFrontage.value_counts().index[0])\n",
    "    X.FireplaceQu = X.FireplaceQu.fillna(X.FireplaceQu.value_counts().index[0])\n",
    "    X.GarageType = X.GarageType.fillna(X.GarageType.value_counts().index[0])\n",
    "    X.GarageYrBlt = X.GarageYrBlt.fillna(X.GarageYrBlt.value_counts().index[0])\n",
    "    X.GarageFinish = X.GarageFinish.fillna(X.GarageFinish.value_counts().index[0])\n",
    "    X.GarageQual = X.GarageQual.fillna(X.GarageQual.value_counts().index[0])\n",
    "    X.BsmtQual = X.BsmtQual.fillna(X.BsmtQual.value_counts().index[0])\n",
    "    X.BsmtCond = X.BsmtCond.fillna(X.BsmtCond.value_counts().index[0])\n",
    "    X.BsmtFinType1 = X.BsmtFinType1.fillna(X.BsmtFinType1.value_counts().index[0])\n",
    "    X.Electrical = X.Electrical.fillna(X.Electrical.value_counts().index[0])\n",
    "    X.Exterior1st = X.Exterior1st.fillna(X.Exterior1st.value_counts().index[0])\n",
    "    X.KitchenQual = X.Exterior1st.fillna(X.Exterior1st.value_counts().index[0])\n",
    "    X.Functional = X.Exterior1st.fillna(X.Functional.value_counts().index[0])\n",
    "    X.SaleType = X.Exterior1st.fillna(X.SaleType.value_counts().index[0])\n",
    "#     X.BsmtUnfSF = X.Exterior1st.fillna(X.BsmtUnfSF.value_counts().index[0])\n",
    "#     X.GarageCars = X.Exterior1st.fillna(X.GarageCars.value_counts().index[0])\n",
    "#     X.GarageArea = X.Exterior1st.fillna(X.GarageArea.value_counts().index[0])\n",
    "    return X"
   ]
  },
  {
   "cell_type": "markdown",
   "metadata": {},
   "source": [
    "<h3 style=\"color:blue;\">Converting Category Data into Numeric Data</h3>"
   ]
  },
  {
   "cell_type": "code",
   "execution_count": 6,
   "metadata": {},
   "outputs": [],
   "source": [
    "from sklearn.preprocessing import LabelBinarizer\n",
    "def converting_category_to_numeric(X):\n",
    "    encoder = LabelBinarizer()\n",
    "#     X.MSZoning = encoder.fit_transform(X.MSZoning)\n",
    "    X.LotShape = encoder.fit_transform(X.LotShape)\n",
    "    X.LandContour = encoder.fit_transform(X.LandContour)\n",
    "    X.LotConfig = encoder.fit_transform(X.LotConfig)\n",
    "    X.Street = encoder.fit_transform(X.Street)\n",
    "    X.Neighborhood = encoder.fit_transform(X.Neighborhood)\n",
    "    X.Condition1 = encoder.fit_transform(X.Condition1)\n",
    "    X.BldgType = encoder.fit_transform(X.BldgType)\n",
    "    X.HouseStyle = encoder.fit_transform(X.HouseStyle)\n",
    "    X.RoofStyle = encoder.fit_transform(X.RoofStyle)\n",
    "    X.RoofMatl = encoder.fit_transform(X.RoofMatl)\n",
    "    X.Exterior1st = encoder.fit_transform(X.Exterior1st)\n",
    "    X.ExterCond = encoder.fit_transform(X.ExterCond)\n",
    "    X.Foundation = encoder.fit_transform(X.Foundation)\n",
    "    X.BsmtQual = encoder.fit_transform(X.BsmtQual)\n",
    "    X.BsmtCond = encoder.fit_transform(X.BsmtCond)\n",
    "    X.BsmtFinType1 = encoder.fit_transform(X.BsmtFinType1)\n",
    "    X.Heating = encoder.fit_transform(X.Heating)\n",
    "    X.CentralAir = encoder.fit_transform(X.CentralAir)\n",
    "    X.Electrical = encoder.fit_transform(X.Electrical)\n",
    "    X.KitchenQual = encoder.fit_transform(X.KitchenQual)\n",
    "    X.Functional = encoder.fit_transform(X.Functional)\n",
    "    X.FireplaceQu = encoder.fit_transform(X.FireplaceQu)\n",
    "    X.GarageType = encoder.fit_transform(X.GarageType)\n",
    "    X.GarageFinish = encoder.fit_transform(X.GarageFinish)\n",
    "    X.GarageQual = encoder.fit_transform(X.GarageQual)\n",
    "    X.SaleType = encoder.fit_transform(X.SaleType)\n",
    "    X.SaleCondition = encoder.fit_transform(X.SaleCondition)\n",
    "    \n",
    "    return X"
   ]
  },
  {
   "cell_type": "markdown",
   "metadata": {},
   "source": [
    "# Now Predict Data"
   ]
  },
  {
   "cell_type": "code",
   "execution_count": 7,
   "metadata": {},
   "outputs": [],
   "source": [
    "train_path = '/home/umcr7/ml/housing_dataset/train.csv'\n",
    "X = load_housing_data(train_path)\n",
    "Y = X.SalePrice\n",
    "X = X.drop('SalePrice', axis=1)"
   ]
  },
  {
   "cell_type": "code",
   "execution_count": 8,
   "metadata": {},
   "outputs": [],
   "source": [
    "X = to_drop(X)"
   ]
  },
  {
   "cell_type": "code",
   "execution_count": 9,
   "metadata": {},
   "outputs": [],
   "source": [
    "X = removing_na_values(X)"
   ]
  },
  {
   "cell_type": "code",
   "execution_count": 10,
   "metadata": {},
   "outputs": [],
   "source": [
    "X = converting_category_to_numeric(X)"
   ]
  },
  {
   "cell_type": "code",
   "execution_count": 11,
   "metadata": {},
   "outputs": [],
   "source": [
    "X_train = X.values\n",
    "X_train = np.delete(X_train, 0, 1)\n",
    "X_train = np.delete(X_train, 25, 1)"
   ]
  },
  {
   "cell_type": "code",
   "execution_count": 56,
   "metadata": {},
   "outputs": [],
   "source": [
    "# itemindex = np.where(X_train=='Gd')\n",
    "# itemindex\n",
    "# # X_train[3,25]"
   ]
  },
  {
   "cell_type": "code",
   "execution_count": 12,
   "metadata": {
    "scrolled": true
   },
   "outputs": [
    {
     "data": {
      "text/plain": [
       "DecisionTreeRegressor(criterion='mse', max_depth=None, max_features=None,\n",
       "           max_leaf_nodes=None, min_impurity_decrease=0.0,\n",
       "           min_impurity_split=None, min_samples_leaf=1,\n",
       "           min_samples_split=2, min_weight_fraction_leaf=0.0,\n",
       "           presort=False, random_state=None, splitter='best')"
      ]
     },
     "execution_count": 12,
     "metadata": {},
     "output_type": "execute_result"
    }
   ],
   "source": [
    "from sklearn.tree import DecisionTreeRegressor\n",
    "from sklearn.metrics import mean_squared_error\n",
    "tree_reg = DecisionTreeRegressor()\n",
    "tree_reg.fit(X_train, Y)"
   ]
  },
  {
   "cell_type": "code",
   "execution_count": 108,
   "metadata": {},
   "outputs": [],
   "source": [
    "test_path = '/home/umcr7/ml/housing_dataset/test.csv'\n",
    "X_test = load_housing_data(test_path)"
   ]
  },
  {
   "cell_type": "code",
   "execution_count": 109,
   "metadata": {},
   "outputs": [],
   "source": [
    "Id = X_test.Id\n",
    "X_test = to_drop(X_test)"
   ]
  },
  {
   "cell_type": "code",
   "execution_count": 110,
   "metadata": {},
   "outputs": [],
   "source": [
    "X_test = removing_na_values(X_test)\n",
    "X_test.BsmtUnfSF = X_test.BsmtUnfSF.fillna(X_test.BsmtUnfSF.value_counts().index[0])\n",
    "X_test.GarageCars = X_test.GarageCars.fillna(X_test.GarageCars.value_counts().index[0])\n",
    "X_test.GarageArea = X_test.GarageArea.fillna(X_test.GarageArea.value_counts().index[0])"
   ]
  },
  {
   "cell_type": "code",
   "execution_count": 111,
   "metadata": {},
   "outputs": [],
   "source": [
    "X_test = converting_category_to_numeric(X_test)"
   ]
  },
  {
   "cell_type": "code",
   "execution_count": 112,
   "metadata": {},
   "outputs": [],
   "source": [
    "X_test = X_test.values"
   ]
  },
  {
   "cell_type": "code",
   "execution_count": 113,
   "metadata": {},
   "outputs": [],
   "source": [
    "X_test = np.delete(X_test, 26, 1)\n",
    "X_test = np.delete(X_test, 0, 1)"
   ]
  },
  {
   "cell_type": "code",
   "execution_count": 114,
   "metadata": {},
   "outputs": [
    {
     "data": {
      "text/plain": [
       "(array([], dtype=int64), array([], dtype=int64))"
      ]
     },
     "execution_count": 114,
     "metadata": {},
     "output_type": "execute_result"
    }
   ],
   "source": [
    "np.where(X_test == 'Ex')"
   ]
  },
  {
   "cell_type": "code",
   "execution_count": 115,
   "metadata": {},
   "outputs": [],
   "source": [
    "# X_test = np.delete(X_test, 24, 1)"
   ]
  },
  {
   "cell_type": "code",
   "execution_count": 116,
   "metadata": {},
   "outputs": [],
   "source": [
    "pred = tree_reg.predict(X_test).reshape(-1,1)"
   ]
  },
  {
   "cell_type": "code",
   "execution_count": 117,
   "metadata": {},
   "outputs": [
    {
     "data": {
      "text/plain": [
       "(1459, 1)"
      ]
     },
     "execution_count": 117,
     "metadata": {},
     "output_type": "execute_result"
    }
   ],
   "source": [
    "pred.shape"
   ]
  },
  {
   "cell_type": "code",
   "execution_count": 120,
   "metadata": {},
   "outputs": [],
   "source": [
    "my_solution = pd.DataFrame(pred, Id, columns = [\"SalePrice\"])\n",
    "my_solution.to_csv(\"my_solution_one.csv\", index_label = [\"Id\"])"
   ]
  },
  {
   "cell_type": "code",
   "execution_count": null,
   "metadata": {},
   "outputs": [],
   "source": [
    "\n",
    "# my_solution = pd.DataFrame(Y_Predict.T, id_list, columns = [\"Id, Label\"])\n",
    "# my_solution.to_csv(\"my_solution_one.csv\", index_label = [\"Id\"])"
   ]
  }
 ],
 "metadata": {
  "kernelspec": {
   "display_name": "Python 3",
   "language": "python",
   "name": "python3"
  },
  "language_info": {
   "codemirror_mode": {
    "name": "ipython",
    "version": 3
   },
   "file_extension": ".py",
   "mimetype": "text/x-python",
   "name": "python",
   "nbconvert_exporter": "python",
   "pygments_lexer": "ipython3",
   "version": "3.5.2"
  }
 },
 "nbformat": 4,
 "nbformat_minor": 2
}
